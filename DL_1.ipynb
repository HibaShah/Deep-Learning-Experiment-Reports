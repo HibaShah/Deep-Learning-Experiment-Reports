{
  "nbformat": 4,
  "nbformat_minor": 0,
  "metadata": {
    "colab": {
      "name": "DL_1.ipynb",
      "provenance": [],
      "collapsed_sections": []
    },
    "kernelspec": {
      "name": "python3",
      "display_name": "Python 3"
    }
  },
  "cells": [
    {
      "cell_type": "code",
      "metadata": {
        "id": "zntUrPLhrefj"
      },
      "source": [
        "import numpy as np\r\n",
        "def sigmoid(z):\r\n",
        "\r\n",
        "    s = 1/(1+np.exp(-z))\r\n",
        "    \r\n",
        "    return s\r\n",
        "\r\n",
        "def initialize_with_zeros(dim):\r\n",
        "\r\n",
        "    \r\n",
        "    w = np.zeros(shape= (dim, 1))\r\n",
        "    b = 0\r\n",
        "\r\n",
        "    assert(w.shape == (dim, 1))\r\n",
        "    assert(isinstance(b, float) or isinstance(b, int))\r\n",
        "    \r\n",
        "    return w, b\r\n",
        "def propagate(w, b, X, Y):\r\n",
        "\r\n",
        "    \r\n",
        "    m = X.shape[1]\r\n",
        "    \r\n",
        "    # FORWARD PROPAGATION (FROM X TO COST)\r\n",
        "    A = sigmoid(np.dot(X,w) +b)                                   # compute activation\r\n",
        "    cost = (-1/m)*((np.dot(np.log(A).T,Y))+(np.dot(np.log(1-A).T,1-Y)))                               # compute cost\r\n",
        "    \r\n",
        "    # BACKWARD PROPAGATION (TO FIND GRAD)\r\n",
        "    dw = 1/m*np.dot(X.T,(A-Y))\r\n",
        "    db = 1/m*np.sum(A-Y)\r\n",
        "\r\n",
        "    # print(\"w=\",w.shape,\"dw=\",dw.shape,\"A=\",A.shape,\"cost=\",cost)\r\n",
        "\r\n",
        "\r\n",
        "    assert(dw.shape == w.shape)\r\n",
        "    assert(db.dtype == float)\r\n",
        "    cost = np.squeeze(cost)\r\n",
        "    assert(cost.shape == ())\r\n",
        "    \r\n",
        "    grads = {\"dw\": dw,\r\n",
        "             \"db\": db}\r\n",
        "    \r\n",
        "    return grads, cost\r\n",
        "\r\n",
        "\r\n",
        "# function to create a list containing mini-batches by rando shuffling\r\n",
        "def create_mini_batches(X, y, batch_size): \r\n",
        "    mini_batches = [] \r\n",
        "    data = np.hstack((X, y)) \r\n",
        "    np.random.shuffle(data) \r\n",
        "    n_minibatches = data.shape[0] // batch_size \r\n",
        "    i = 0\r\n",
        "  \r\n",
        "    for i in range(n_minibatches + 1): \r\n",
        "        mini_batch = data[i * batch_size:(i + 1)*batch_size, :] \r\n",
        "        X_mini = mini_batch[:, :-1] \r\n",
        "        Y_mini = mini_batch[:, -1].reshape((-1, 1)) \r\n",
        "        mini_batches.append((X_mini, Y_mini)) \r\n",
        "    if data.shape[0] % batch_size != 0: \r\n",
        "        mini_batch = data[i * batch_size:data.shape[0]] \r\n",
        "        X_mini = mini_batch[:, :-1] \r\n",
        "        Y_mini = mini_batch[:, -1].reshape((-1, 1)) \r\n",
        "        mini_batches.append((X_mini, Y_mini))\r\n",
        "    return mini_batches\r\n",
        "\r\n",
        "def SGD(w, b, X, Y, num_iterations, learning_rate,X_val,y_val, print_cost = False,batch_size=64):\r\n",
        "\r\n",
        "    \r\n",
        "    losses = []\r\n",
        "    costs=[]\r\n",
        "    \r\n",
        "    for i in range(num_iterations):\r\n",
        "\r\n",
        "        mini_batches = create_mini_batches(X, Y, batch_size)\r\n",
        "        for mini_batch in mini_batches:\r\n",
        "        \r\n",
        "          X_mini, y_mini = mini_batch\r\n",
        "          # Cost and gradient calculation\r\n",
        "          grads, cost = propagate(w, b, X_mini, y_mini)\r\n",
        "          \r\n",
        "          # Retrieve derivatives from grads\r\n",
        "          dw = grads[\"dw\"]\r\n",
        "          db = grads[\"db\"]\r\n",
        "          \r\n",
        "          # update rule\r\n",
        "          w -= learning_rate*dw\r\n",
        "          b -= learning_rate*db\r\n",
        "        \r\n",
        "        # Record the costs\r\n",
        "        if i % 10 == 0:\r\n",
        "            costs.append(cost)\r\n",
        "\r\n",
        "\r\n",
        "        # record losses\r\n",
        "        y_hat=predict(w,b,X_val)\r\n",
        "        loss=log_loss(y_val, y_hat)\r\n",
        "        losses.append(loss)\r\n",
        "\r\n",
        "\r\n",
        "        # Print the cost every 100 training iterations\r\n",
        "        if print_cost and i % 10 == 0:\r\n",
        "            print (\"cost after iteration %i: %f\" %(i, cost))\r\n",
        "    \r\n",
        "    params = {\"w\": w,\r\n",
        "              \"b\": b}\r\n",
        "    \r\n",
        "    grads = {\"dw\": dw,\r\n",
        "             \"db\": db}\r\n",
        "    \r\n",
        "    return params, grads, costs,losses\r\n",
        "\r\n",
        "\r\n",
        "\r\n",
        "\r\n",
        "\r\n",
        "def GD(w, b, X, Y, num_iterations, learning_rate,X_val,y_val, print_cost = False):\r\n",
        "\r\n",
        "    losses = []\r\n",
        "    costs = []\r\n",
        "    \r\n",
        "    for i in range(num_iterations):\r\n",
        "\r\n",
        "        \r\n",
        "        \r\n",
        "        # Cost and gradient calculation\r\n",
        "        grads, cost = propagate(w, b, X, Y)\r\n",
        "        \r\n",
        "        # Retrieve derivatives from grads\r\n",
        "        dw = grads[\"dw\"]\r\n",
        "        db = grads[\"db\"]\r\n",
        "        \r\n",
        "        # update rule\r\n",
        "        w -= learning_rate*dw\r\n",
        "        b -= learning_rate*db\r\n",
        "        \r\n",
        "        # Record the costs\r\n",
        "        if i % 10 == 0:\r\n",
        "            costs.append(cost)\r\n",
        "\r\n",
        "        # record losses\r\n",
        "        y_hat=predict(w,b,X_val)\r\n",
        "        loss=log_loss(y_val, y_hat)\r\n",
        "        losses.append(loss)\r\n",
        "        \r\n",
        "        # Print the cost every 100 training iterations\r\n",
        "        if print_cost and i % 10 == 0:\r\n",
        "            print (\"Cost after iteration %i: %f\" %(i, cost))\r\n",
        "    \r\n",
        "    params = {\"w\": w,\r\n",
        "              \"b\": b}\r\n",
        "    \r\n",
        "    grads = {\"dw\": dw,\r\n",
        "             \"db\": db}\r\n",
        "    \r\n",
        "    return params, grads, costs, losses\r\n",
        "\r\n",
        "def predict(w, b, X):\r\n",
        "\r\n",
        "    \r\n",
        "    m = X.shape[0]\r\n",
        "    Y_prediction = np.zeros((m,1))\r\n",
        "    w = w.reshape(X.shape[1], 1)\r\n",
        "    \r\n",
        "    # Compute vector \"A\" predicting the probabilities\r\n",
        "    A = sigmoid(np.dot(X,w) + b)\r\n",
        "    \r\n",
        "    for i in range(A.shape[0]):\r\n",
        "        \r\n",
        "        # Convert probabilities A[0,i] to actual predictions p[0,i]\r\n",
        "        if A[i,0] > 0.5:\r\n",
        "            Y_prediction[i,0] = 1\r\n",
        "        else:\r\n",
        "            Y_prediction[i,0] = 0\r\n",
        "    \r\n",
        "    assert(Y_prediction.shape == (m, 1))\r\n",
        "    \r\n",
        "    return Y_prediction\r\n",
        "\r\n",
        "def model(X_train, Y_train, X_test, Y_test, num_iterations = 900, learning_rate = 0.05, print_cost = False, optimizer=\"SGD\"):\r\n",
        "\r\n",
        "    Y_train=Y_train.reshape(-1,1)\r\n",
        "    Y_test=Y_test.reshape(-1,1)\r\n",
        "    # initialize parameters with zeros\r\n",
        "    w, b = initialize_with_zeros(X_train.shape[1])\r\n",
        "\r\n",
        "    if optimizer==\"SGD\":\r\n",
        "      # Gradient descent\r\n",
        "      parameters, grads, costs, losses = SGD(w , b , X_train , Y_train , num_iterations , learning_rate ,\r\n",
        "                                            X_test,Y_test,print_cost)\r\n",
        "    else:\r\n",
        "      parameters, grads, costs, losses = GD(w , b , X_train , Y_train , num_iterations , learning_rate ,\r\n",
        "                                            X_test,Y_test,print_cost)\r\n",
        "    \r\n",
        "    # Retrieve parameters w and b from dictionary \"parameters\"\r\n",
        "    w = parameters[\"w\"]\r\n",
        "    b = parameters[\"b\"]\r\n",
        "    \r\n",
        "    # Predict test/train set examples\r\n",
        "    Y_prediction_test = predict(w , b , X_test)\r\n",
        "    Y_prediction_train = predict(w , b, X_train)\r\n",
        "\r\n",
        "    ### END CODE HERE ###\r\n",
        "\r\n",
        "    # Print train/test Errors\r\n",
        "    print(\"train accuracy: {} %\".format(100 - np.mean(np.abs(Y_prediction_train - Y_train)) * 100))\r\n",
        "    print(\"test accuracy: {} %\".format(100 - np.mean(np.abs(Y_prediction_test - Y_test)) * 100))\r\n",
        "    print(\"Total validation loss: {}\".format(log_loss(Y_test, Y_prediction_test)))\r\n",
        "\r\n",
        "    \r\n",
        "    d = {\"costs\": costs,\r\n",
        "         \"Y_prediction_test\": Y_prediction_test, \r\n",
        "         \"Y_prediction_train\" : Y_prediction_train, \r\n",
        "         \"w\" : w, \r\n",
        "         \"b\" : b,\r\n",
        "         \"learning_rate\" : learning_rate,\r\n",
        "         \"num_iterations\": num_iterations,\r\n",
        "         \"losses\": losses}\r\n",
        "    \r\n",
        "    return d"
      ],
      "execution_count": 11,
      "outputs": []
    },
    {
      "cell_type": "code",
      "metadata": {
        "id": "XSwgulqmsUQR"
      },
      "source": [
        "from sklearn.metrics import log_loss\r\n",
        "import numpy.random as rn\r\n",
        "import numpy.linalg as la\r\n",
        "import matplotlib.pyplot as plt\r\n",
        "import math\r\n",
        "import csv\r\n",
        "import time\r\n",
        "from sklearn import preprocessing\r\n",
        "import numpy as np\r\n",
        "import matplotlib.pyplot as plt\r\n",
        "import h5py\r\n",
        "import scipy\r\n",
        "import numpy as np\r\n",
        "from sklearn.model_selection import train_test_split\r\n",
        "import pandas as pd\r\n",
        "from random import shuffle"
      ],
      "execution_count": 12,
      "outputs": []
    },
    {
      "cell_type": "markdown",
      "metadata": {
        "id": "5Zf9aBFCjONS"
      },
      "source": [
        "**Reading Data set pre saved into csv format**"
      ]
    },
    {
      "cell_type": "code",
      "metadata": {
        "colab": {
          "base_uri": "https://localhost:8080/"
        },
        "id": "aq2_o5z5sXid",
        "outputId": "dff2a59f-88b1-4546-8a50-23e4ea183a92"
      },
      "source": [
        "dt=pd.read_csv('data_1.csv')\r\n",
        "dt.shape"
      ],
      "execution_count": 13,
      "outputs": [
        {
          "output_type": "execute_result",
          "data": {
            "text/plain": [
              "(32560, 123)"
            ]
          },
          "metadata": {
            "tags": []
          },
          "execution_count": 13
        }
      ]
    },
    {
      "cell_type": "markdown",
      "metadata": {
        "id": "TapbR_U-jT61"
      },
      "source": [
        "**Converting labels into 0 and 1 for our own convenience they can be retrasfoemd at the end if we want**"
      ]
    },
    {
      "cell_type": "code",
      "metadata": {
        "colab": {
          "base_uri": "https://localhost:8080/"
        },
        "id": "SPjFxJN8s8pU",
        "outputId": "e1c89da8-c9ae-4632-f314-d9497c0a406d"
      },
      "source": [
        "le = preprocessing.LabelEncoder()\r\n",
        "le.fit(dt[\"target\"])\r\n",
        "y=le.transform(dt[\"target\"])\r\n",
        "y.shape"
      ],
      "execution_count": 14,
      "outputs": [
        {
          "output_type": "execute_result",
          "data": {
            "text/plain": [
              "(32560,)"
            ]
          },
          "metadata": {
            "tags": []
          },
          "execution_count": 14
        }
      ]
    },
    {
      "cell_type": "code",
      "metadata": {
        "colab": {
          "base_uri": "https://localhost:8080/"
        },
        "id": "yFnhlbVas_YG",
        "outputId": "0a008f18-a871-4a9c-c773-c7261caead9c"
      },
      "source": [
        "# splitting data into train and test set by randomly shuffling\r\n",
        "X_train, X_test, y_train, y_test = train_test_split(dt.iloc[:,1:], y, test_size=0.33)\r\n",
        "print(X_train.shape,y_train.shape)"
      ],
      "execution_count": 15,
      "outputs": [
        {
          "output_type": "stream",
          "text": [
            "(21815, 122) (21815,)\n"
          ],
          "name": "stdout"
        }
      ]
    },
    {
      "cell_type": "code",
      "metadata": {
        "id": "zztZHqLitAoc",
        "colab": {
          "base_uri": "https://localhost:8080/"
        },
        "outputId": "cd37d9f2-0210-40f6-b6d2-ecedf49d48cd"
      },
      "source": [
        "result=model(X_train.values, y_train, X_test.values, y_test, num_iterations = 100, learning_rate = 0.005, print_cost = True, optimizer=\"SGD\")"
      ],
      "execution_count": 16,
      "outputs": [
        {
          "output_type": "stream",
          "text": [
            "cost after iteration 0: 0.236143\n",
            "cost after iteration 10: 0.233998\n",
            "cost after iteration 20: 0.162300\n",
            "cost after iteration 30: 0.151119\n",
            "cost after iteration 40: 0.112193\n",
            "cost after iteration 50: 0.175938\n",
            "cost after iteration 60: 0.145338\n",
            "cost after iteration 70: 0.197125\n",
            "cost after iteration 80: 0.163579\n",
            "cost after iteration 90: 0.101184\n",
            "train accuracy: 83.86431354572542 %\n",
            "test accuracy: 84.16007445323406 %\n",
            "Total validation loss: 5.470955608411938\n"
          ],
          "name": "stdout"
        }
      ]
    },
    {
      "cell_type": "code",
      "metadata": {
        "colab": {
          "base_uri": "https://localhost:8080/",
          "height": 281
        },
        "id": "i1SI2Niof-ko",
        "outputId": "d68bc543-328e-45ca-bd67-6a82d7a4db3f"
      },
      "source": [
        "# curve for loss validation with respect to iterations FOR GRADIENT DESCENT\r\n",
        "plt.plot(list(range(len(result[\"losses\"]))), result[\"losses\"], '-r')"
      ],
      "execution_count": 17,
      "outputs": [
        {
          "output_type": "execute_result",
          "data": {
            "text/plain": [
              "[<matplotlib.lines.Line2D at 0x7fbd657fffd0>]"
            ]
          },
          "metadata": {
            "tags": []
          },
          "execution_count": 17
        },
        {
          "output_type": "display_data",
          "data": {
            "image/png": "[encoded data removed]",
            "text/plain": [
              "<Figure size 432x288 with 1 Axes>"
            ]
          },
          "metadata": {
            "tags": [],
            "needs_background": "light"
          }
        }
      ]
    }
  ]
}